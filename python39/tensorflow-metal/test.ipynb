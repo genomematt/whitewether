{
 "cells": [
  {
   "cell_type": "code",
   "execution_count": 1,
   "id": "547b3665-a5cb-450a-9f5a-d4a69603128e",
   "metadata": {},
   "outputs": [],
   "source": [
    "import tensorflow as tf"
   ]
  },
  {
   "cell_type": "code",
   "execution_count": 2,
   "id": "3bf4e5c9-4151-49e9-8eb5-59f74c16bc67",
   "metadata": {},
   "outputs": [
    {
     "data": {
      "text/plain": [
       "'2.8.0'"
      ]
     },
     "execution_count": 2,
     "metadata": {},
     "output_type": "execute_result"
    }
   ],
   "source": [
    "tf.__version__"
   ]
  },
  {
   "cell_type": "markdown",
   "id": "b2e9565f-6d59-4e76-9fc0-697326555508",
   "metadata": {},
   "source": [
    "# Do a quick test to see it actually uses the GPU correctly.\n",
    "This should take about 5 secconds, which is long enough for you to be able to see python3.9 on the Activity Monitor GPU Time or % lists.\n",
    "\n",
    "You may see some warnings when it first configures the device."
   ]
  },
  {
   "cell_type": "code",
   "execution_count": 8,
   "id": "9f9a2af6-3a02-41d7-bf6b-352e56af5327",
   "metadata": {},
   "outputs": [
    {
     "name": "stdout",
     "output_type": "stream",
     "text": [
      "tf.Tensor([-0.8072359  1.3253984], shape=(2,), dtype=float32)\n",
      "tf.Tensor([0.        1.3253984], shape=(2,), dtype=float32)\n"
     ]
    }
   ],
   "source": [
    "tf.config.list_physical_devices()\n",
    "with tf.device('/GPU'):\n",
    "    for x in range(0,10000):\n",
    "      a = tf.random.normal(shape=(2,), dtype=tf.float32)\n",
    "      b = tf.nn.relu(a)\n",
    "\n",
    "print(a)\n",
    "print(b)\n"
   ]
  },
  {
   "cell_type": "code",
   "execution_count": null,
   "id": "6b25b23b-93bc-435b-b065-3bc6442edf23",
   "metadata": {},
   "outputs": [],
   "source": []
  }
 ],
 "metadata": {
  "kernelspec": {
   "display_name": "Python 3 (ipykernel)",
   "language": "python",
   "name": "python3"
  },
  "language_info": {
   "codemirror_mode": {
    "name": "ipython",
    "version": 3
   },
   "file_extension": ".py",
   "mimetype": "text/x-python",
   "name": "python",
   "nbconvert_exporter": "python",
   "pygments_lexer": "ipython3",
   "version": "3.9.9"
  }
 },
 "nbformat": 4,
 "nbformat_minor": 5
}
